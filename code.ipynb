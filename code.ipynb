{
 "cells": [
  {
   "cell_type": "markdown",
   "metadata": {},
   "source": [
    "# Who Will Pay the Loan?\n",
    "## *A machine learning approach to identify good customers*"
   ]
  },
  {
   "cell_type": "code",
   "execution_count": 2,
   "metadata": {},
   "outputs": [],
   "source": [
    "import pandas as pd\n",
    "import numpy as np\n",
    "import pylab as pl\n",
    "%matplotlib inline\n",
    "import seaborn as sns"
   ]
  },
  {
   "cell_type": "code",
   "execution_count": 48,
   "metadata": {},
   "outputs": [],
   "source": [
    "pl.rcParams['figure.figsize'] = (8, 6)  # set figure size\n",
    "pl.rcParams['figure.dpi'] = 100\n",
    "pl.rc('font', size=10)"
   ]
  },
  {
   "cell_type": "markdown",
   "metadata": {},
   "source": [
    "## Part A: Exploratory Data Analysis\n",
    "### 1. General information of dataset"
   ]
  },
  {
   "cell_type": "code",
   "execution_count": 4,
   "metadata": {},
   "outputs": [],
   "source": [
    "# read data from csv to dataframe\n",
    "data = pd.read_csv('LoanStats3c.csv', header=0, low_memory=False)"
   ]
  },
  {
   "cell_type": "code",
   "execution_count": 5,
   "metadata": {},
   "outputs": [
    {
     "name": "stdout",
     "output_type": "stream",
     "text": [
      "Number of data samples: 161231\n",
      "Number of data features: 52\n"
     ]
    }
   ],
   "source": [
    "print('Number of data samples: %s' % data.shape[0])\n",
    "print('Number of data features: %s' % data.shape[1])"
   ]
  },
  {
   "cell_type": "code",
   "execution_count": 6,
   "metadata": {},
   "outputs": [
    {
     "name": "stdout",
     "output_type": "stream",
     "text": [
      "All the data samples have unique id.\n"
     ]
    }
   ],
   "source": [
    "if len(data) == len(data.id.unique()):\n",
    "    print(\"All the data samples have unique id.\")"
   ]
  },
  {
   "cell_type": "code",
   "execution_count": 7,
   "metadata": {},
   "outputs": [
    {
     "data": {
      "text/plain": [
       "desc                           0.905744\n",
       "mths_since_last_record         0.820574\n",
       "mths_since_last_major_derog    0.719812\n",
       "mths_since_last_delinq         0.497566\n",
       "emp_title                      0.056956\n",
       "next_pymnt_d                   0.045413\n",
       "last_pymnt_d                   0.000688\n",
       "revol_util                     0.000521\n",
       "last_credit_pull_d             0.000081\n",
       "home_ownership                 0.000000\n",
       "dtype: float64"
      ]
     },
     "execution_count": 7,
     "metadata": {},
     "output_type": "execute_result"
    }
   ],
   "source": [
    "# percentages of missing values\n",
    "miss_percents = data.isnull().mean().sort_values(ascending=False)\n",
    "\n",
    "# top 10 features that have the most missing values\n",
    "miss_percents.head(10)"
   ]
  },
  {
   "cell_type": "code",
   "execution_count": 8,
   "metadata": {},
   "outputs": [],
   "source": [
    "# remove features with missing values\n",
    "miss_features = list(miss_percents.index[miss_percents > 0])\n",
    "data.drop(miss_features, axis=1, inplace=True)"
   ]
  },
  {
   "cell_type": "code",
   "execution_count": 9,
   "metadata": {},
   "outputs": [
    {
     "data": {
      "text/plain": [
       "(161231, 43)"
      ]
     },
     "execution_count": 9,
     "metadata": {},
     "output_type": "execute_result"
    }
   ],
   "source": [
    "data.shape"
   ]
  },
  {
   "cell_type": "markdown",
   "metadata": {},
   "source": [
    "### 2. Descriptive statistics of 3 features: loan_amnt, int_rate, grade"
   ]
  },
  {
   "cell_type": "code",
   "execution_count": 10,
   "metadata": {
    "scrolled": true
   },
   "outputs": [
    {
     "data": {
      "text/plain": [
       "count    161231.000000\n",
       "mean      14864.642190\n",
       "std        8412.637516\n",
       "min        1000.000000\n",
       "25%        8400.000000\n",
       "50%       13000.000000\n",
       "75%       20000.000000\n",
       "max       35000.000000\n",
       "Name: loan_amnt, dtype: float64"
      ]
     },
     "execution_count": 10,
     "metadata": {},
     "output_type": "execute_result"
    }
   ],
   "source": [
    "data.loan_amnt.describe()"
   ]
  },
  {
   "cell_type": "code",
   "execution_count": 49,
   "metadata": {},
   "outputs": [
    {
     "data": {
      "text/plain": [
       "<matplotlib.text.Text at 0x262c0499240>"
      ]
     },
     "execution_count": 49,
     "metadata": {},
     "output_type": "execute_result"
    },
    {
     "data": {
      "image/png": "[encoded data removed]",
      "text/plain": [
       "<matplotlib.figure.Figure at 0x262c034c550>"
      ]
     },
     "metadata": {},
     "output_type": "display_data"
    }
   ],
   "source": [
    "_ = pl.hist(data.loan_amnt, bins=50, color='green', edgecolor='black')\n",
    "pl.xlabel('Loan amount')\n",
    "pl.ylabel('Count')\n",
    "pl.title('Histgram of loan_amnt')"
   ]
  },
  {
   "cell_type": "code",
   "execution_count": 15,
   "metadata": {},
   "outputs": [],
   "source": [
    "# convert int_rate to numeric\n",
    "data.int_rate = data.int_rate.apply(lambda x: float(x[:-1]))"
   ]
  },
  {
   "cell_type": "code",
   "execution_count": 16,
   "metadata": {},
   "outputs": [
    {
     "data": {
      "text/plain": [
       "count    161231.000000\n",
       "mean         14.057480\n",
       "std           4.326685\n",
       "min           6.000000\n",
       "25%          10.990000\n",
       "50%          13.980000\n",
       "75%          16.590000\n",
       "max          26.060000\n",
       "Name: int_rate, dtype: float64"
      ]
     },
     "execution_count": 16,
     "metadata": {},
     "output_type": "execute_result"
    }
   ],
   "source": [
    "data.int_rate.describe()"
   ]
  },
  {
   "cell_type": "code",
   "execution_count": 17,
   "metadata": {},
   "outputs": [
    {
     "data": {
      "text/plain": [
       "<matplotlib.text.Text at 0x262bdb3aba8>"
      ]
     },
     "execution_count": 17,
     "metadata": {},
     "output_type": "execute_result"
    },
    {
     "data": {
      "image/png": "[encoded data removed]",
      "text/plain": [
       "<matplotlib.figure.Figure at 0x262bc2df5c0>"
      ]
     },
     "metadata": {},
     "output_type": "display_data"
    }
   ],
   "source": [
    "_ = pl.hist(data.int_rate, bins=50, color='green', edgecolor='black')\n",
    "pl.xlabel('Interest rate (%)')\n",
    "pl.ylabel('Count')\n",
    "pl.title('Histgram of int_rate')"
   ]
  },
  {
   "cell_type": "code",
   "execution_count": 18,
   "metadata": {},
   "outputs": [
    {
     "data": {
      "text/plain": [
       "count     161231\n",
       "unique         7\n",
       "top            C\n",
       "freq       45257\n",
       "Name: grade, dtype: object"
      ]
     },
     "execution_count": 18,
     "metadata": {},
     "output_type": "execute_result"
    }
   ],
   "source": [
    "# grade is categorical data\n",
    "data.grade.describe()"
   ]
  },
  {
   "cell_type": "code",
   "execution_count": 19,
   "metadata": {
    "scrolled": false
   },
   "outputs": [
    {
     "data": {
      "text/plain": [
       "<matplotlib.text.Text at 0x262be094ef0>"
      ]
     },
     "execution_count": 19,
     "metadata": {},
     "output_type": "execute_result"
    },
    {
     "data": {
      "image/png": "[encoded data removed]",
      "text/plain": [
       "<matplotlib.figure.Figure at 0x262bdbde9b0>"
      ]
     },
     "metadata": {},
     "output_type": "display_data"
    }
   ],
   "source": [
    "ax = sns.countplot(data.grade, color='green', edgecolor='black')\n",
    "pl.xlabel('Grade')\n",
    "pl.ylabel('Count')"
   ]
  },
  {
   "cell_type": "markdown",
   "metadata": {},
   "source": [
    "### 3. Proposed business problem"
   ]
  },
  {
   "cell_type": "code",
   "execution_count": 20,
   "metadata": {},
   "outputs": [],
   "source": [
    "loan_status = data.loan_status.copy()"
   ]
  },
  {
   "cell_type": "code",
   "execution_count": 21,
   "metadata": {
    "scrolled": true
   },
   "outputs": [
    {
     "data": {
      "text/plain": [
       "Current               151208\n",
       "Fully Paid              6922\n",
       "Late (31-120 days)      1362\n",
       "In Grace Period          853\n",
       "Late (16-30 days)        409\n",
       "Charged Off              400\n",
       "Default                   76\n",
       "Issued                     1\n",
       "Name: loan_status, dtype: int64"
      ]
     },
     "execution_count": 21,
     "metadata": {},
     "output_type": "execute_result"
    }
   ],
   "source": [
    "loan_status.value_counts()"
   ]
  },
  {
   "cell_type": "markdown",
   "metadata": {},
   "source": [
    "### 4. Features related to the proposed business problem"
   ]
  },
  {
   "cell_type": "code",
   "execution_count": 22,
   "metadata": {},
   "outputs": [],
   "source": [
    "# create a new dataframe\n",
    "df = data[(data.loan_status == 'Fully Paid') | (data.loan_status == 'Charged Off')]\n",
    "df = df[['loan_amnt', 'int_rate', 'term', 'grade', 'loan_status']].copy()\n",
    "df.index = range(len(df))"
   ]
  },
  {
   "cell_type": "code",
   "execution_count": 24,
   "metadata": {},
   "outputs": [
    {
     "data": {
      "text/html": [
       "<div>\n",
       "<style>\n",
       "    .dataframe thead tr:only-child th {\n",
       "        text-align: right;\n",
       "    }\n",
       "\n",
       "    .dataframe thead th {\n",
       "        text-align: left;\n",
       "    }\n",
       "\n",
       "    .dataframe tbody tr th {\n",
       "        vertical-align: top;\n",
       "    }\n",
       "</style>\n",
       "<table border=\"1\" class=\"dataframe\">\n",
       "  <thead>\n",
       "    <tr style=\"text-align: right;\">\n",
       "      <th></th>\n",
       "      <th>loan_amnt</th>\n",
       "      <th>int_rate</th>\n",
       "      <th>term</th>\n",
       "      <th>grade</th>\n",
       "      <th>loan_status</th>\n",
       "    </tr>\n",
       "  </thead>\n",
       "  <tbody>\n",
       "    <tr>\n",
       "      <th>0</th>\n",
       "      <td>10000</td>\n",
       "      <td>16.99</td>\n",
       "      <td>36 months</td>\n",
       "      <td>D</td>\n",
       "      <td>Fully Paid</td>\n",
       "    </tr>\n",
       "    <tr>\n",
       "      <th>1</th>\n",
       "      <td>28750</td>\n",
       "      <td>9.17</td>\n",
       "      <td>60 months</td>\n",
       "      <td>B</td>\n",
       "      <td>Fully Paid</td>\n",
       "    </tr>\n",
       "    <tr>\n",
       "      <th>2</th>\n",
       "      <td>17000</td>\n",
       "      <td>6.49</td>\n",
       "      <td>36 months</td>\n",
       "      <td>A</td>\n",
       "      <td>Fully Paid</td>\n",
       "    </tr>\n",
       "    <tr>\n",
       "      <th>3</th>\n",
       "      <td>8025</td>\n",
       "      <td>18.24</td>\n",
       "      <td>36 months</td>\n",
       "      <td>D</td>\n",
       "      <td>Fully Paid</td>\n",
       "    </tr>\n",
       "    <tr>\n",
       "      <th>4</th>\n",
       "      <td>20000</td>\n",
       "      <td>11.67</td>\n",
       "      <td>60 months</td>\n",
       "      <td>B</td>\n",
       "      <td>Fully Paid</td>\n",
       "    </tr>\n",
       "  </tbody>\n",
       "</table>\n",
       "</div>"
      ],
      "text/plain": [
       "   loan_amnt  int_rate        term grade loan_status\n",
       "0      10000     16.99   36 months     D  Fully Paid\n",
       "1      28750      9.17   60 months     B  Fully Paid\n",
       "2      17000      6.49   36 months     A  Fully Paid\n",
       "3       8025     18.24   36 months     D  Fully Paid\n",
       "4      20000     11.67   60 months     B  Fully Paid"
      ]
     },
     "execution_count": 24,
     "metadata": {},
     "output_type": "execute_result"
    }
   ],
   "source": [
    "df.head()"
   ]
  },
  {
   "cell_type": "code",
   "execution_count": 25,
   "metadata": {},
   "outputs": [
    {
     "data": {
      "text/plain": [
       "<matplotlib.axes._subplots.AxesSubplot at 0x262bd774ba8>"
      ]
     },
     "execution_count": 25,
     "metadata": {},
     "output_type": "execute_result"
    },
    {
     "data": {
      "image/png": "[encoded data removed]",
      "text/plain": [
       "<matplotlib.figure.Figure at 0x262be447cf8>"
      ]
     },
     "metadata": {},
     "output_type": "display_data"
    }
   ],
   "source": [
    "# box plot: loan_amnt vs loan_status\n",
    "pl.figure(figsize=(8, 3))\n",
    "sns.boxplot(x='loan_amnt', y='loan_status', data=df)"
   ]
  },
  {
   "cell_type": "code",
   "execution_count": 26,
   "metadata": {},
   "outputs": [
    {
     "data": {
      "text/plain": [
       "<matplotlib.axes._subplots.AxesSubplot at 0x262be441860>"
      ]
     },
     "execution_count": 26,
     "metadata": {},
     "output_type": "execute_result"
    },
    {
     "data": {
      "image/png": "[encoded data removed]",
      "text/plain": [
       "<matplotlib.figure.Figure at 0x262bf540ef0>"
      ]
     },
     "metadata": {},
     "output_type": "display_data"
    }
   ],
   "source": [
    "# box plot: int_rate vs loan_status\n",
    "pl.figure(figsize=(8, 3))\n",
    "sns.boxplot(x='int_rate', y='loan_status', data=df)"
   ]
  },
  {
   "cell_type": "code",
   "execution_count": 27,
   "metadata": {},
   "outputs": [
    {
     "name": "stdout",
     "output_type": "stream",
     "text": [
      "Number of 36 months loans: 5238\n",
      "Number of 36 months fully paid loans: 4972\n",
      "Number of 36 months charged off loans: 266\n",
      "\n",
      "\n",
      "Number of 60 months loans: 2084\n",
      "Number of 60 months fully paid loans: 1950\n",
      "Number of 60 months charged off loans: 134\n"
     ]
    }
   ],
   "source": [
    "# term statistics\n",
    "print('Number of 36 months loans: %s' % len(df[df.term == ' 36 months']))\n",
    "print('Number of 36 months fully paid loans: %s' % len(df[(df.term == ' 36 months') & (df.loan_status == 'Fully Paid')]))\n",
    "print('Number of 36 months charged off loans: %s' % len(df[(df.term == ' 36 months') & (df.loan_status == 'Charged Off')]))\n",
    "print('\\n')\n",
    "print('Number of 60 months loans: %s' % len(df[df.term == ' 60 months']))\n",
    "print('Number of 60 months fully paid loans: %s' % len(df[(df.term == ' 60 months') & (df.loan_status == 'Fully Paid')]))\n",
    "print('Number of 60 months charged off loans: %s' % len(df[(df.term == ' 60 months') & (df.loan_status == 'Charged Off')]))"
   ]
  },
  {
   "cell_type": "code",
   "execution_count": 28,
   "metadata": {},
   "outputs": [],
   "source": [
    "def convert_category(alist):\n",
    "    uniques = sorted(list(set(alist)))\n",
    "    return [uniques.index(x) + 1 for x in alist]"
   ]
  },
  {
   "cell_type": "code",
   "execution_count": 29,
   "metadata": {},
   "outputs": [],
   "source": [
    "# convert to nuemrical\n",
    "df.grade = convert_category(df.grade.tolist())"
   ]
  },
  {
   "cell_type": "code",
   "execution_count": 30,
   "metadata": {},
   "outputs": [
    {
     "data": {
      "text/plain": [
       "([<matplotlib.axis.XTick at 0x262bdf75898>,\n",
       "  <matplotlib.axis.XTick at 0x262be642f98>,\n",
       "  <matplotlib.axis.XTick at 0x262bdf5cc88>,\n",
       "  <matplotlib.axis.XTick at 0x262bfa402e8>,\n",
       "  <matplotlib.axis.XTick at 0x262bfa40b38>,\n",
       "  <matplotlib.axis.XTick at 0x262bfa43550>,\n",
       "  <matplotlib.axis.XTick at 0x262bfa43f28>],\n",
       " <a list of 7 Text xticklabel objects>)"
      ]
     },
     "execution_count": 30,
     "metadata": {},
     "output_type": "execute_result"
    },
    {
     "data": {
      "image/png": "[encoded data removed]",
      "text/plain": [
       "<matplotlib.figure.Figure at 0x262be001278>"
      ]
     },
     "metadata": {},
     "output_type": "display_data"
    }
   ],
   "source": [
    "# box plot: int_rate vs loan_status\n",
    "pl.figure(figsize=(8, 3))\n",
    "sns.boxplot(x='grade', y='loan_status', data=df)\n",
    "pl.xticks(range(1, 8), ['A', 'B', 'C', 'D', 'E', 'F', 'G'])"
   ]
  },
  {
   "cell_type": "markdown",
   "metadata": {},
   "source": [
    "## Part B: Feature Engineering and Modelling\n",
    "### 1. Machine learning model"
   ]
  },
  {
   "cell_type": "code",
   "execution_count": 31,
   "metadata": {},
   "outputs": [],
   "source": [
    "# Focus on fully paid and charged off loans\n",
    "dataset = data[(data.loan_status == 'Fully Paid') | (data.loan_status == 'Charged Off')].copy()"
   ]
  },
  {
   "cell_type": "code",
   "execution_count": 32,
   "metadata": {},
   "outputs": [
    {
     "data": {
      "text/plain": [
       "(7322, 43)"
      ]
     },
     "execution_count": 32,
     "metadata": {},
     "output_type": "execute_result"
    }
   ],
   "source": [
    "# After removing the features with missing values, there are 43 remaining\n",
    "dataset.shape"
   ]
  },
  {
   "cell_type": "code",
   "execution_count": 33,
   "metadata": {},
   "outputs": [
    {
     "name": "stdout",
     "output_type": "stream",
     "text": [
      "funded_amt is redundant.\n"
     ]
    }
   ],
   "source": [
    "# funded_amnt is redundant\n",
    "if sum(dataset.loan_amnt == dataset.funded_amnt) == len(dataset):\n",
    "    print('funded_amt is redundant.')"
   ]
  },
  {
   "cell_type": "code",
   "execution_count": 34,
   "metadata": {},
   "outputs": [],
   "source": [
    "# Selected features\n",
    "cols = ['loan_amnt', 'term', 'int_rate', 'installment', 'grade', 'sub_grade', 'emp_length',\n",
    "       'home_ownership', 'annual_inc', 'is_inc_v', 'loan_status', 'dti',\n",
    "       'delinq_2yrs', 'inq_last_6mths', 'open_acc', 'pub_rec', 'total_acc', 'revol_bal',\n",
    "       'total_pymnt', 'total_pymnt_inv', 'total_rec_prncp',\n",
    "       'total_rec_int', 'last_pymnt_amnt']"
   ]
  },
  {
   "cell_type": "code",
   "execution_count": 35,
   "metadata": {},
   "outputs": [],
   "source": [
    "loan = dataset[cols].copy()"
   ]
  },
  {
   "cell_type": "code",
   "execution_count": 36,
   "metadata": {},
   "outputs": [
    {
     "data": {
      "text/html": [
       "<div>\n",
       "<style>\n",
       "    .dataframe thead tr:only-child th {\n",
       "        text-align: right;\n",
       "    }\n",
       "\n",
       "    .dataframe thead th {\n",
       "        text-align: left;\n",
       "    }\n",
       "\n",
       "    .dataframe tbody tr th {\n",
       "        vertical-align: top;\n",
       "    }\n",
       "</style>\n",
       "<table border=\"1\" class=\"dataframe\">\n",
       "  <thead>\n",
       "    <tr style=\"text-align: right;\">\n",
       "      <th></th>\n",
       "      <th>loan_amnt</th>\n",
       "      <th>term</th>\n",
       "      <th>int_rate</th>\n",
       "      <th>installment</th>\n",
       "      <th>grade</th>\n",
       "      <th>sub_grade</th>\n",
       "      <th>emp_length</th>\n",
       "      <th>home_ownership</th>\n",
       "      <th>annual_inc</th>\n",
       "      <th>is_inc_v</th>\n",
       "      <th>...</th>\n",
       "      <th>inq_last_6mths</th>\n",
       "      <th>open_acc</th>\n",
       "      <th>pub_rec</th>\n",
       "      <th>total_acc</th>\n",
       "      <th>revol_bal</th>\n",
       "      <th>total_pymnt</th>\n",
       "      <th>total_pymnt_inv</th>\n",
       "      <th>total_rec_prncp</th>\n",
       "      <th>total_rec_int</th>\n",
       "      <th>last_pymnt_amnt</th>\n",
       "    </tr>\n",
       "  </thead>\n",
       "  <tbody>\n",
       "    <tr>\n",
       "      <th>252</th>\n",
       "      <td>10000</td>\n",
       "      <td>36 months</td>\n",
       "      <td>16.99</td>\n",
       "      <td>356.48</td>\n",
       "      <td>D</td>\n",
       "      <td>D3</td>\n",
       "      <td>7 years</td>\n",
       "      <td>MORTGAGE</td>\n",
       "      <td>86000.0</td>\n",
       "      <td>Source Verified</td>\n",
       "      <td>...</td>\n",
       "      <td>1</td>\n",
       "      <td>16</td>\n",
       "      <td>1</td>\n",
       "      <td>55</td>\n",
       "      <td>26855</td>\n",
       "      <td>10141.59</td>\n",
       "      <td>10141.59</td>\n",
       "      <td>10000.0</td>\n",
       "      <td>141.59</td>\n",
       "      <td>10141.59</td>\n",
       "    </tr>\n",
       "    <tr>\n",
       "      <th>490</th>\n",
       "      <td>28750</td>\n",
       "      <td>60 months</td>\n",
       "      <td>9.17</td>\n",
       "      <td>599.18</td>\n",
       "      <td>B</td>\n",
       "      <td>B1</td>\n",
       "      <td>n/a</td>\n",
       "      <td>MORTGAGE</td>\n",
       "      <td>59736.0</td>\n",
       "      <td>Verified</td>\n",
       "      <td>...</td>\n",
       "      <td>0</td>\n",
       "      <td>11</td>\n",
       "      <td>0</td>\n",
       "      <td>29</td>\n",
       "      <td>56838</td>\n",
       "      <td>28969.70</td>\n",
       "      <td>28969.70</td>\n",
       "      <td>28750.0</td>\n",
       "      <td>219.70</td>\n",
       "      <td>28969.70</td>\n",
       "    </tr>\n",
       "    <tr>\n",
       "      <th>631</th>\n",
       "      <td>17000</td>\n",
       "      <td>36 months</td>\n",
       "      <td>6.49</td>\n",
       "      <td>520.96</td>\n",
       "      <td>A</td>\n",
       "      <td>A2</td>\n",
       "      <td>&lt; 1 year</td>\n",
       "      <td>MORTGAGE</td>\n",
       "      <td>129996.0</td>\n",
       "      <td>Not Verified</td>\n",
       "      <td>...</td>\n",
       "      <td>1</td>\n",
       "      <td>8</td>\n",
       "      <td>0</td>\n",
       "      <td>21</td>\n",
       "      <td>7845</td>\n",
       "      <td>17100.91</td>\n",
       "      <td>17075.76</td>\n",
       "      <td>17000.0</td>\n",
       "      <td>100.91</td>\n",
       "      <td>17100.91</td>\n",
       "    </tr>\n",
       "    <tr>\n",
       "      <th>636</th>\n",
       "      <td>8025</td>\n",
       "      <td>36 months</td>\n",
       "      <td>18.24</td>\n",
       "      <td>291.10</td>\n",
       "      <td>D</td>\n",
       "      <td>D5</td>\n",
       "      <td>10+ years</td>\n",
       "      <td>OWN</td>\n",
       "      <td>68000.0</td>\n",
       "      <td>Verified</td>\n",
       "      <td>...</td>\n",
       "      <td>1</td>\n",
       "      <td>11</td>\n",
       "      <td>0</td>\n",
       "      <td>16</td>\n",
       "      <td>9134</td>\n",
       "      <td>8146.98</td>\n",
       "      <td>8146.98</td>\n",
       "      <td>8025.0</td>\n",
       "      <td>121.98</td>\n",
       "      <td>8146.98</td>\n",
       "    </tr>\n",
       "    <tr>\n",
       "      <th>794</th>\n",
       "      <td>20000</td>\n",
       "      <td>60 months</td>\n",
       "      <td>11.67</td>\n",
       "      <td>441.57</td>\n",
       "      <td>B</td>\n",
       "      <td>B4</td>\n",
       "      <td>4 years</td>\n",
       "      <td>MORTGAGE</td>\n",
       "      <td>100000.0</td>\n",
       "      <td>Source Verified</td>\n",
       "      <td>...</td>\n",
       "      <td>1</td>\n",
       "      <td>11</td>\n",
       "      <td>0</td>\n",
       "      <td>34</td>\n",
       "      <td>11481</td>\n",
       "      <td>20194.50</td>\n",
       "      <td>20194.50</td>\n",
       "      <td>20000.0</td>\n",
       "      <td>194.50</td>\n",
       "      <td>20194.50</td>\n",
       "    </tr>\n",
       "  </tbody>\n",
       "</table>\n",
       "<p>5 rows × 23 columns</p>\n",
       "</div>"
      ],
      "text/plain": [
       "     loan_amnt        term  int_rate  installment grade sub_grade emp_length  \\\n",
       "252      10000   36 months     16.99       356.48     D        D3    7 years   \n",
       "490      28750   60 months      9.17       599.18     B        B1        n/a   \n",
       "631      17000   36 months      6.49       520.96     A        A2   < 1 year   \n",
       "636       8025   36 months     18.24       291.10     D        D5  10+ years   \n",
       "794      20000   60 months     11.67       441.57     B        B4    4 years   \n",
       "\n",
       "    home_ownership  annual_inc         is_inc_v       ...         \\\n",
       "252       MORTGAGE     86000.0  Source Verified       ...          \n",
       "490       MORTGAGE     59736.0         Verified       ...          \n",
       "631       MORTGAGE    129996.0     Not Verified       ...          \n",
       "636            OWN     68000.0         Verified       ...          \n",
       "794       MORTGAGE    100000.0  Source Verified       ...          \n",
       "\n",
       "    inq_last_6mths  open_acc  pub_rec  total_acc  revol_bal  total_pymnt  \\\n",
       "252              1        16        1         55      26855     10141.59   \n",
       "490              0        11        0         29      56838     28969.70   \n",
       "631              1         8        0         21       7845     17100.91   \n",
       "636              1        11        0         16       9134      8146.98   \n",
       "794              1        11        0         34      11481     20194.50   \n",
       "\n",
       "     total_pymnt_inv  total_rec_prncp  total_rec_int  last_pymnt_amnt  \n",
       "252         10141.59          10000.0         141.59         10141.59  \n",
       "490         28969.70          28750.0         219.70         28969.70  \n",
       "631         17075.76          17000.0         100.91         17100.91  \n",
       "636          8146.98           8025.0         121.98          8146.98  \n",
       "794         20194.50          20000.0         194.50         20194.50  \n",
       "\n",
       "[5 rows x 23 columns]"
      ]
     },
     "execution_count": 36,
     "metadata": {},
     "output_type": "execute_result"
    }
   ],
   "source": [
    "loan.head()"
   ]
  },
  {
   "cell_type": "markdown",
   "metadata": {},
   "source": [
    "#### 1.1 Feature engineering"
   ]
  },
  {
   "cell_type": "code",
   "execution_count": 37,
   "metadata": {},
   "outputs": [],
   "source": [
    "def convert_status(x):\n",
    "    \"\"\"\n",
    "    0 - Fully Paid\n",
    "    1 - Charged Off\n",
    "    \n",
    "    \"\"\"\n",
    "    \n",
    "    if x == 'Fully Paid':\n",
    "        return 0\n",
    "    else:\n",
    "        return 1\n",
    "    \n",
    "def convert_term(x):\n",
    "    \"\"\"\n",
    "    0 - 36 months\n",
    "    1 - 60 months\n",
    "    \n",
    "    \"\"\"\n",
    "    \n",
    "    if x.startswith(' 36'):\n",
    "        return 0\n",
    "    else:\n",
    "        return 1\n",
    "\n",
    "def convert_length(x):\n",
    "    \"\"\"\n",
    "    0 - < 1year and n/a\n",
    "    1 - 1 year\n",
    "    2 - 2 years\n",
    "    3 - 3 years\n",
    "    4 - 4 years\n",
    "    5 - 5 years\n",
    "    6 - 6 years\n",
    "    7 - 7 years\n",
    "    8 - 8 years\n",
    "    9 - 9 years\n",
    "    10 - 10+ years\n",
    "    \n",
    "    \"\"\"\n",
    "    \n",
    "    if x[0] in '123456789':\n",
    "        if x.startswith('10+'):\n",
    "            return 10\n",
    "        else:\n",
    "            return int(x[0])\n",
    "    else:\n",
    "        return 0\n",
    "\n",
    "def convert_ownership(x):\n",
    "    \"\"\"\n",
    "    0 - mortgage, own\n",
    "    1 - rent, any\n",
    "    \n",
    "    \"\"\"\n",
    "    \n",
    "    if x in ['MORTGAGE', 'OWN']:\n",
    "        return 0\n",
    "    else:\n",
    "        return 1\n",
    "\n",
    "def convert_verified(x):\n",
    "    \"\"\"\n",
    "    0 - Source Verified, Verified           \n",
    "    1 - Not Verified       \n",
    "\n",
    "    \"\"\"\n",
    "    if x == 'Not Verified':\n",
    "        return 1\n",
    "    else:\n",
    "        return 0"
   ]
  },
  {
   "cell_type": "code",
   "execution_count": 38,
   "metadata": {},
   "outputs": [],
   "source": [
    "# convert categorical data to numeric\n",
    "loan.term = loan.term.apply(convert_term)\n",
    "loan.grade = convert_category(loan.grade.tolist())\n",
    "loan.sub_grade = convert_category(loan.sub_grade.tolist())\n",
    "loan.emp_length = loan.emp_length.apply(convert_length)\n",
    "loan.home_ownership = loan.home_ownership.apply(convert_ownership)\n",
    "loan.is_inc_v = loan.is_inc_v.apply(convert_verified)\n",
    "loan.loan_status = loan.loan_status.apply(convert_status)"
   ]
  },
  {
   "cell_type": "code",
   "execution_count": 41,
   "metadata": {},
   "outputs": [
    {
     "data": {
      "text/html": [
       "<div>\n",
       "<style>\n",
       "    .dataframe thead tr:only-child th {\n",
       "        text-align: right;\n",
       "    }\n",
       "\n",
       "    .dataframe thead th {\n",
       "        text-align: left;\n",
       "    }\n",
       "\n",
       "    .dataframe tbody tr th {\n",
       "        vertical-align: top;\n",
       "    }\n",
       "</style>\n",
       "<table border=\"1\" class=\"dataframe\">\n",
       "  <thead>\n",
       "    <tr style=\"text-align: right;\">\n",
       "      <th></th>\n",
       "      <th>loan_amnt</th>\n",
       "      <th>term</th>\n",
       "      <th>int_rate</th>\n",
       "      <th>installment</th>\n",
       "      <th>grade</th>\n",
       "      <th>sub_grade</th>\n",
       "      <th>emp_length</th>\n",
       "      <th>home_ownership</th>\n",
       "      <th>annual_inc</th>\n",
       "      <th>is_inc_v</th>\n",
       "      <th>...</th>\n",
       "      <th>inq_last_6mths</th>\n",
       "      <th>open_acc</th>\n",
       "      <th>pub_rec</th>\n",
       "      <th>total_acc</th>\n",
       "      <th>revol_bal</th>\n",
       "      <th>total_pymnt</th>\n",
       "      <th>total_pymnt_inv</th>\n",
       "      <th>total_rec_prncp</th>\n",
       "      <th>total_rec_int</th>\n",
       "      <th>last_pymnt_amnt</th>\n",
       "    </tr>\n",
       "  </thead>\n",
       "  <tbody>\n",
       "    <tr>\n",
       "      <th>252</th>\n",
       "      <td>10000</td>\n",
       "      <td>0</td>\n",
       "      <td>16.99</td>\n",
       "      <td>356.48</td>\n",
       "      <td>4</td>\n",
       "      <td>18</td>\n",
       "      <td>7</td>\n",
       "      <td>0</td>\n",
       "      <td>86000.0</td>\n",
       "      <td>0</td>\n",
       "      <td>...</td>\n",
       "      <td>1</td>\n",
       "      <td>16</td>\n",
       "      <td>1</td>\n",
       "      <td>55</td>\n",
       "      <td>26855</td>\n",
       "      <td>10141.59</td>\n",
       "      <td>10141.59</td>\n",
       "      <td>10000.0</td>\n",
       "      <td>141.59</td>\n",
       "      <td>10141.59</td>\n",
       "    </tr>\n",
       "    <tr>\n",
       "      <th>490</th>\n",
       "      <td>28750</td>\n",
       "      <td>1</td>\n",
       "      <td>9.17</td>\n",
       "      <td>599.18</td>\n",
       "      <td>2</td>\n",
       "      <td>6</td>\n",
       "      <td>0</td>\n",
       "      <td>0</td>\n",
       "      <td>59736.0</td>\n",
       "      <td>0</td>\n",
       "      <td>...</td>\n",
       "      <td>0</td>\n",
       "      <td>11</td>\n",
       "      <td>0</td>\n",
       "      <td>29</td>\n",
       "      <td>56838</td>\n",
       "      <td>28969.70</td>\n",
       "      <td>28969.70</td>\n",
       "      <td>28750.0</td>\n",
       "      <td>219.70</td>\n",
       "      <td>28969.70</td>\n",
       "    </tr>\n",
       "    <tr>\n",
       "      <th>631</th>\n",
       "      <td>17000</td>\n",
       "      <td>0</td>\n",
       "      <td>6.49</td>\n",
       "      <td>520.96</td>\n",
       "      <td>1</td>\n",
       "      <td>2</td>\n",
       "      <td>0</td>\n",
       "      <td>0</td>\n",
       "      <td>129996.0</td>\n",
       "      <td>1</td>\n",
       "      <td>...</td>\n",
       "      <td>1</td>\n",
       "      <td>8</td>\n",
       "      <td>0</td>\n",
       "      <td>21</td>\n",
       "      <td>7845</td>\n",
       "      <td>17100.91</td>\n",
       "      <td>17075.76</td>\n",
       "      <td>17000.0</td>\n",
       "      <td>100.91</td>\n",
       "      <td>17100.91</td>\n",
       "    </tr>\n",
       "    <tr>\n",
       "      <th>636</th>\n",
       "      <td>8025</td>\n",
       "      <td>0</td>\n",
       "      <td>18.24</td>\n",
       "      <td>291.10</td>\n",
       "      <td>4</td>\n",
       "      <td>20</td>\n",
       "      <td>10</td>\n",
       "      <td>0</td>\n",
       "      <td>68000.0</td>\n",
       "      <td>0</td>\n",
       "      <td>...</td>\n",
       "      <td>1</td>\n",
       "      <td>11</td>\n",
       "      <td>0</td>\n",
       "      <td>16</td>\n",
       "      <td>9134</td>\n",
       "      <td>8146.98</td>\n",
       "      <td>8146.98</td>\n",
       "      <td>8025.0</td>\n",
       "      <td>121.98</td>\n",
       "      <td>8146.98</td>\n",
       "    </tr>\n",
       "    <tr>\n",
       "      <th>794</th>\n",
       "      <td>20000</td>\n",
       "      <td>1</td>\n",
       "      <td>11.67</td>\n",
       "      <td>441.57</td>\n",
       "      <td>2</td>\n",
       "      <td>9</td>\n",
       "      <td>4</td>\n",
       "      <td>0</td>\n",
       "      <td>100000.0</td>\n",
       "      <td>0</td>\n",
       "      <td>...</td>\n",
       "      <td>1</td>\n",
       "      <td>11</td>\n",
       "      <td>0</td>\n",
       "      <td>34</td>\n",
       "      <td>11481</td>\n",
       "      <td>20194.50</td>\n",
       "      <td>20194.50</td>\n",
       "      <td>20000.0</td>\n",
       "      <td>194.50</td>\n",
       "      <td>20194.50</td>\n",
       "    </tr>\n",
       "  </tbody>\n",
       "</table>\n",
       "<p>5 rows × 23 columns</p>\n",
       "</div>"
      ],
      "text/plain": [
       "     loan_amnt  term  int_rate  installment  grade  sub_grade  emp_length  \\\n",
       "252      10000     0     16.99       356.48      4         18           7   \n",
       "490      28750     1      9.17       599.18      2          6           0   \n",
       "631      17000     0      6.49       520.96      1          2           0   \n",
       "636       8025     0     18.24       291.10      4         20          10   \n",
       "794      20000     1     11.67       441.57      2          9           4   \n",
       "\n",
       "     home_ownership  annual_inc  is_inc_v       ...         inq_last_6mths  \\\n",
       "252               0     86000.0         0       ...                      1   \n",
       "490               0     59736.0         0       ...                      0   \n",
       "631               0    129996.0         1       ...                      1   \n",
       "636               0     68000.0         0       ...                      1   \n",
       "794               0    100000.0         0       ...                      1   \n",
       "\n",
       "     open_acc  pub_rec  total_acc  revol_bal  total_pymnt  total_pymnt_inv  \\\n",
       "252        16        1         55      26855     10141.59         10141.59   \n",
       "490        11        0         29      56838     28969.70         28969.70   \n",
       "631         8        0         21       7845     17100.91         17075.76   \n",
       "636        11        0         16       9134      8146.98          8146.98   \n",
       "794        11        0         34      11481     20194.50         20194.50   \n",
       "\n",
       "     total_rec_prncp  total_rec_int  last_pymnt_amnt  \n",
       "252          10000.0         141.59         10141.59  \n",
       "490          28750.0         219.70         28969.70  \n",
       "631          17000.0         100.91         17100.91  \n",
       "636           8025.0         121.98          8146.98  \n",
       "794          20000.0         194.50         20194.50  \n",
       "\n",
       "[5 rows x 23 columns]"
      ]
     },
     "execution_count": 41,
     "metadata": {},
     "output_type": "execute_result"
    }
   ],
   "source": [
    "loan.head()"
   ]
  },
  {
   "cell_type": "code",
   "execution_count": 42,
   "metadata": {},
   "outputs": [
    {
     "data": {
      "image/png": "[encoded data removed]",
      "text/plain": [
       "<matplotlib.figure.Figure at 0x262be616eb8>"
      ]
     },
     "metadata": {},
     "output_type": "display_data"
    }
   ],
   "source": [
    "f, (ax1, ax2) = pl.subplots(nrows=1, ncols=2)\n",
    "_ = ax1.hist(loan.loan_amnt, bins=50, color='green', edgecolor='black')\n",
    "_ = ax2.hist(loan.loan_amnt ** 0.4, bins=50, color='green', edgecolor='black')\n",
    "ax1.set_xlabel('loan_amnt', fontsize=8)\n",
    "ax2.set_xlabel('loan_amnt with transformation', fontsize=8)\n",
    "ax1.tick_params(axis='both', labelsize=8)\n",
    "ax2.tick_params(axis='both', labelsize=8)"
   ]
  },
  {
   "cell_type": "code",
   "execution_count": 43,
   "metadata": {},
   "outputs": [
    {
     "data": {
      "image/png": "[encoded data removed]",
      "text/plain": [
       "<matplotlib.figure.Figure at 0x262be001c88>"
      ]
     },
     "metadata": {},
     "output_type": "display_data"
    }
   ],
   "source": [
    "f, (ax1, ax2) = pl.subplots(nrows=1, ncols=2)\n",
    "_ = ax1.hist(loan.annual_inc, bins=50, color='green', edgecolor='black')\n",
    "_ = ax2.hist(loan.annual_inc ** 0.02, bins=50, color='green', edgecolor='black')\n",
    "ax1.set_xlabel('annual_inc', fontsize=8)\n",
    "ax2.set_xlabel('annual_inc with transformation', fontsize=8)\n",
    "ax1.tick_params(axis='both', labelsize=8)\n",
    "ax2.tick_params(axis='both', labelsize=8)"
   ]
  },
  {
   "cell_type": "code",
   "execution_count": 44,
   "metadata": {},
   "outputs": [],
   "source": [
    "# feature transformation\n",
    "loan['loan_amnt1'] = loan.loan_amnt ** 0.4\n",
    "loan['annual_inc1'] = loan.annual_inc ** 0.02\n",
    "loan['grade1'] = [1 if grade >=4 else 0 for grade in loan.grade]"
   ]
  },
  {
   "cell_type": "code",
   "execution_count": 45,
   "metadata": {},
   "outputs": [
    {
     "data": {
      "text/html": [
       "<div>\n",
       "<style>\n",
       "    .dataframe thead tr:only-child th {\n",
       "        text-align: right;\n",
       "    }\n",
       "\n",
       "    .dataframe thead th {\n",
       "        text-align: left;\n",
       "    }\n",
       "\n",
       "    .dataframe tbody tr th {\n",
       "        vertical-align: top;\n",
       "    }\n",
       "</style>\n",
       "<table border=\"1\" class=\"dataframe\">\n",
       "  <thead>\n",
       "    <tr style=\"text-align: right;\">\n",
       "      <th></th>\n",
       "      <th>loan_amnt</th>\n",
       "      <th>term</th>\n",
       "      <th>int_rate</th>\n",
       "      <th>installment</th>\n",
       "      <th>grade</th>\n",
       "      <th>sub_grade</th>\n",
       "      <th>emp_length</th>\n",
       "      <th>home_ownership</th>\n",
       "      <th>annual_inc</th>\n",
       "      <th>is_inc_v</th>\n",
       "      <th>...</th>\n",
       "      <th>total_acc</th>\n",
       "      <th>revol_bal</th>\n",
       "      <th>total_pymnt</th>\n",
       "      <th>total_pymnt_inv</th>\n",
       "      <th>total_rec_prncp</th>\n",
       "      <th>total_rec_int</th>\n",
       "      <th>last_pymnt_amnt</th>\n",
       "      <th>loan_amnt1</th>\n",
       "      <th>annual_inc1</th>\n",
       "      <th>grade1</th>\n",
       "    </tr>\n",
       "  </thead>\n",
       "  <tbody>\n",
       "    <tr>\n",
       "      <th>252</th>\n",
       "      <td>10000</td>\n",
       "      <td>0</td>\n",
       "      <td>16.99</td>\n",
       "      <td>356.48</td>\n",
       "      <td>4</td>\n",
       "      <td>18</td>\n",
       "      <td>7</td>\n",
       "      <td>0</td>\n",
       "      <td>86000.0</td>\n",
       "      <td>0</td>\n",
       "      <td>...</td>\n",
       "      <td>55</td>\n",
       "      <td>26855</td>\n",
       "      <td>10141.59</td>\n",
       "      <td>10141.59</td>\n",
       "      <td>10000.0</td>\n",
       "      <td>141.59</td>\n",
       "      <td>10141.59</td>\n",
       "      <td>39.810717</td>\n",
       "      <td>1.255134</td>\n",
       "      <td>1</td>\n",
       "    </tr>\n",
       "    <tr>\n",
       "      <th>490</th>\n",
       "      <td>28750</td>\n",
       "      <td>1</td>\n",
       "      <td>9.17</td>\n",
       "      <td>599.18</td>\n",
       "      <td>2</td>\n",
       "      <td>6</td>\n",
       "      <td>0</td>\n",
       "      <td>0</td>\n",
       "      <td>59736.0</td>\n",
       "      <td>0</td>\n",
       "      <td>...</td>\n",
       "      <td>29</td>\n",
       "      <td>56838</td>\n",
       "      <td>28969.70</td>\n",
       "      <td>28969.70</td>\n",
       "      <td>28750.0</td>\n",
       "      <td>219.70</td>\n",
       "      <td>28969.70</td>\n",
       "      <td>60.737252</td>\n",
       "      <td>1.246019</td>\n",
       "      <td>0</td>\n",
       "    </tr>\n",
       "    <tr>\n",
       "      <th>631</th>\n",
       "      <td>17000</td>\n",
       "      <td>0</td>\n",
       "      <td>6.49</td>\n",
       "      <td>520.96</td>\n",
       "      <td>1</td>\n",
       "      <td>2</td>\n",
       "      <td>0</td>\n",
       "      <td>0</td>\n",
       "      <td>129996.0</td>\n",
       "      <td>1</td>\n",
       "      <td>...</td>\n",
       "      <td>21</td>\n",
       "      <td>7845</td>\n",
       "      <td>17100.91</td>\n",
       "      <td>17075.76</td>\n",
       "      <td>17000.0</td>\n",
       "      <td>100.91</td>\n",
       "      <td>17100.91</td>\n",
       "      <td>49.224302</td>\n",
       "      <td>1.265548</td>\n",
       "      <td>0</td>\n",
       "    </tr>\n",
       "    <tr>\n",
       "      <th>636</th>\n",
       "      <td>8025</td>\n",
       "      <td>0</td>\n",
       "      <td>18.24</td>\n",
       "      <td>291.10</td>\n",
       "      <td>4</td>\n",
       "      <td>20</td>\n",
       "      <td>10</td>\n",
       "      <td>0</td>\n",
       "      <td>68000.0</td>\n",
       "      <td>0</td>\n",
       "      <td>...</td>\n",
       "      <td>16</td>\n",
       "      <td>9134</td>\n",
       "      <td>8146.98</td>\n",
       "      <td>8146.98</td>\n",
       "      <td>8025.0</td>\n",
       "      <td>121.98</td>\n",
       "      <td>8146.98</td>\n",
       "      <td>36.456756</td>\n",
       "      <td>1.249252</td>\n",
       "      <td>1</td>\n",
       "    </tr>\n",
       "    <tr>\n",
       "      <th>794</th>\n",
       "      <td>20000</td>\n",
       "      <td>1</td>\n",
       "      <td>11.67</td>\n",
       "      <td>441.57</td>\n",
       "      <td>2</td>\n",
       "      <td>9</td>\n",
       "      <td>4</td>\n",
       "      <td>0</td>\n",
       "      <td>100000.0</td>\n",
       "      <td>0</td>\n",
       "      <td>...</td>\n",
       "      <td>34</td>\n",
       "      <td>11481</td>\n",
       "      <td>20194.50</td>\n",
       "      <td>20194.50</td>\n",
       "      <td>20000.0</td>\n",
       "      <td>194.50</td>\n",
       "      <td>20194.50</td>\n",
       "      <td>52.530556</td>\n",
       "      <td>1.258925</td>\n",
       "      <td>0</td>\n",
       "    </tr>\n",
       "  </tbody>\n",
       "</table>\n",
       "<p>5 rows × 26 columns</p>\n",
       "</div>"
      ],
      "text/plain": [
       "     loan_amnt  term  int_rate  installment  grade  sub_grade  emp_length  \\\n",
       "252      10000     0     16.99       356.48      4         18           7   \n",
       "490      28750     1      9.17       599.18      2          6           0   \n",
       "631      17000     0      6.49       520.96      1          2           0   \n",
       "636       8025     0     18.24       291.10      4         20          10   \n",
       "794      20000     1     11.67       441.57      2          9           4   \n",
       "\n",
       "     home_ownership  annual_inc  is_inc_v   ...    total_acc  revol_bal  \\\n",
       "252               0     86000.0         0   ...           55      26855   \n",
       "490               0     59736.0         0   ...           29      56838   \n",
       "631               0    129996.0         1   ...           21       7845   \n",
       "636               0     68000.0         0   ...           16       9134   \n",
       "794               0    100000.0         0   ...           34      11481   \n",
       "\n",
       "     total_pymnt  total_pymnt_inv  total_rec_prncp  total_rec_int  \\\n",
       "252     10141.59         10141.59          10000.0         141.59   \n",
       "490     28969.70         28969.70          28750.0         219.70   \n",
       "631     17100.91         17075.76          17000.0         100.91   \n",
       "636      8146.98          8146.98           8025.0         121.98   \n",
       "794     20194.50         20194.50          20000.0         194.50   \n",
       "\n",
       "     last_pymnt_amnt  loan_amnt1  annual_inc1  grade1  \n",
       "252         10141.59   39.810717     1.255134       1  \n",
       "490         28969.70   60.737252     1.246019       0  \n",
       "631         17100.91   49.224302     1.265548       0  \n",
       "636          8146.98   36.456756     1.249252       1  \n",
       "794         20194.50   52.530556     1.258925       0  \n",
       "\n",
       "[5 rows x 26 columns]"
      ]
     },
     "execution_count": 45,
     "metadata": {},
     "output_type": "execute_result"
    }
   ],
   "source": [
    "loan.head()"
   ]
  },
  {
   "cell_type": "markdown",
   "metadata": {},
   "source": [
    "#### 1.2 Model development"
   ]
  },
  {
   "cell_type": "code",
   "execution_count": 50,
   "metadata": {},
   "outputs": [],
   "source": [
    "from sklearn.model_selection import train_test_split, GridSearchCV\n",
    "from sklearn.ensemble import RandomForestClassifier\n",
    "from sklearn.preprocessing import StandardScaler\n",
    "from collections import Counter\n",
    "from sklearn.metrics import accuracy_score, confusion_matrix, f1_score\n",
    "import itertools"
   ]
  },
  {
   "cell_type": "code",
   "execution_count": 51,
   "metadata": {},
   "outputs": [],
   "source": [
    "def preprocess(X, y):\n",
    "    \"\"\"\n",
    "    Data preprocessing\n",
    "        1. data split\n",
    "        2. data standandization\n",
    "        \n",
    "    \"\"\"\n",
    "\n",
    "    trainX, testX, trainY, testY = train_test_split(X, y, test_size=0.3, random_state=0, stratify=y)\n",
    "    print('Training data: %s' % Counter(trainY))\n",
    "    print('Testing data: %s' % Counter(testY))\n",
    "    \n",
    "    s = StandardScaler()\n",
    "    strain = s.fit_transform(trainX.values)\n",
    "    stest = s.transform(testX.values)\n",
    "    dftrain = pd.DataFrame(data=strain, index=trainX.index, columns=trainX.columns)\n",
    "    dftest = pd.DataFrame(data=stest, index=testX.index, columns=testX.columns)\n",
    "\n",
    "    return dftrain, dftest, trainY, testY\n",
    "\n",
    "def evaluation(y_true, y_pred):\n",
    "    # evaluate prediction result\n",
    "    \n",
    "    class_names = ['Fully Paid', 'Charged Off']\n",
    "    conf_mat = confusion_matrix(y_true, y_pred)\n",
    "    print('Accuracy: %.4f, F1 Score: %.4f' %\n",
    "          (accuracy_score(y_true, y_pred), f1_score(y_true, y_pred)))\n",
    "    plot_confusion_matrix(conf_mat, class_names)\n",
    "    \n",
    "def plot_confusion_matrix(cm, classes, normalize=False):\n",
    "    \"\"\"\n",
    "    For a confusion matrix C, the element C_ij is equal to the number of observations\n",
    "    known to be in label i but predicted to be in label j.\n",
    "    \n",
    "    \"\"\"\n",
    "\n",
    "    if normalize:\n",
    "        cm = cm.astype('float') / cm.sum(axis=1)[:, np.newaxis]\n",
    "\n",
    "    pl.imshow(cm, interpolation='nearest', cmap=pl.cm.Blues)\n",
    "    pl.colorbar()\n",
    "    tick_marks = np.arange(len(classes))\n",
    "\n",
    "    fmt = '.2f' if normalize else 'd'\n",
    "    thresh = cm.max() / 2.0\n",
    "    for i, j in itertools.product(range(cm.shape[0]), range(cm.shape[1])):\n",
    "        pl.text(j, i, format(cm[i, j], fmt),\n",
    "                fontsize=11, horizontalalignment=\"center\",\n",
    "                color=\"white\" if cm[i, j] > thresh else \"black\")\n",
    "    pl.xticks(tick_marks, classes, fontsize=11)\n",
    "    pl.yticks(tick_marks, classes, fontsize=11)\n",
    "    pl.ylabel('True label', fontsize=13)\n",
    "    pl.xlabel('Predicted label', fontsize=13)\n",
    "    pl.tight_layout()"
   ]
  },
  {
   "cell_type": "code",
   "execution_count": 52,
   "metadata": {},
   "outputs": [
    {
     "name": "stdout",
     "output_type": "stream",
     "text": [
      "Training data: Counter({0: 4845, 1: 280})\n",
      "Testing data: Counter({0: 2077, 1: 120})\n"
     ]
    }
   ],
   "source": [
    "X = loan.drop('loan_status', axis=1)\n",
    "y = loan.loan_status\n",
    "trainX, testX, trainY, testY = preprocess(X, y)"
   ]
  },
  {
   "cell_type": "code",
   "execution_count": 53,
   "metadata": {},
   "outputs": [
    {
     "data": {
      "text/plain": [
       "Index(['loan_amnt', 'term', 'int_rate', 'installment', 'grade', 'sub_grade',\n",
       "       'emp_length', 'home_ownership', 'annual_inc', 'is_inc_v', 'dti',\n",
       "       'delinq_2yrs', 'inq_last_6mths', 'open_acc', 'pub_rec', 'total_acc',\n",
       "       'revol_bal', 'total_pymnt', 'total_pymnt_inv', 'total_rec_prncp',\n",
       "       'total_rec_int', 'last_pymnt_amnt', 'loan_amnt1', 'annual_inc1',\n",
       "       'grade1'],\n",
       "      dtype='object')"
      ]
     },
     "execution_count": 53,
     "metadata": {},
     "output_type": "execute_result"
    }
   ],
   "source": [
    "# input features\n",
    "X.columns"
   ]
  },
  {
   "cell_type": "code",
   "execution_count": 56,
   "metadata": {},
   "outputs": [
    {
     "name": "stdout",
     "output_type": "stream",
     "text": [
      "Accuracy: 0.9995, F1 Score: 0.9958\n"
     ]
    },
    {
     "data": {
      "image/png": "[encoded data removed]",
      "text/plain": [
       "<matplotlib.figure.Figure at 0x262c0b29470>"
      ]
     },
     "metadata": {},
     "output_type": "display_data"
    }
   ],
   "source": [
    "# model build and prediction\n",
    "m = RandomForestClassifier(random_state=42)\n",
    "m.fit(trainX, trainY)\n",
    "predY = m.predict(testX)\n",
    "evaluation(testY, predY)"
   ]
  },
  {
   "cell_type": "code",
   "execution_count": 57,
   "metadata": {},
   "outputs": [
    {
     "data": {
      "image/png": "[encoded data removed]",
      "text/plain": [
       "<matplotlib.figure.Figure at 0x262c09ef940>"
      ]
     },
     "metadata": {},
     "output_type": "display_data"
    }
   ],
   "source": [
    "# Check feature importances\n",
    "features = X.columns.tolist()\n",
    "features_importances = m.feature_importances_\n",
    "indices = np.argsort(features_importances)\n",
    "\n",
    "pl.barh(range(len(features)), features_importances[indices],color='green')\n",
    "pl.yticks(range(len(features)), [features[i] for i in indices])\n",
    "pl.xlabel('Feature importance', fontsize=8)\n",
    "pl.tick_params(axis='both', labelsize=8)"
   ]
  }
 ],
 "metadata": {
  "kernelspec": {
   "display_name": "Python 3",
   "language": "python",
   "name": "python3"
  },
  "language_info": {
   "codemirror_mode": {
    "name": "ipython",
    "version": 3
   },
   "file_extension": ".py",
   "mimetype": "text/x-python",
   "name": "python",
   "nbconvert_exporter": "python",
   "pygments_lexer": "ipython3",
   "version": "3.6.2"
  }
 },
 "nbformat": 4,
 "nbformat_minor": 2
}
