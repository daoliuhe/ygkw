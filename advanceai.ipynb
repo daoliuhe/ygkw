{
 "cells": [
  {
   "cell_type": "markdown",
   "metadata": {},
   "source": [
    "#### Question 1: Flatten JSON"
   ]
  },
  {
   "cell_type": "code",
   "execution_count": 343,
   "metadata": {},
   "outputs": [],
   "source": [
    "def flatten_json(d):\n",
    "    out = dict()\n",
    "\n",
    "    def flatten(x, name=''):\n",
    "        if isinstance(x, dict):\n",
    "            for key in x:\n",
    "                flatten(x[key], name + key + '.')\n",
    "        else:\n",
    "            out[name[:-1]] = x\n",
    "\n",
    "    flatten(d)\n",
    "    return out"
   ]
  },
  {
   "cell_type": "code",
   "execution_count": 349,
   "metadata": {},
   "outputs": [
    {
     "data": {
      "text/plain": [
       "{'a': 1, 'b.c': 2, 'b.d': [3, 4]}"
      ]
     },
     "execution_count": 349,
     "metadata": {},
     "output_type": "execute_result"
    }
   ],
   "source": [
    "m = { \"a\": 1, \"b\": { \"c\": 2, \"d\": [3,4] } }\n",
    "flatten_json(m)"
   ]
  },
  {
   "cell_type": "markdown",
   "metadata": {},
   "source": [
    "#### Question 2: Load and Store"
   ]
  },
  {
   "cell_type": "code",
   "execution_count": 350,
   "metadata": {},
   "outputs": [],
   "source": [
    "arr = [{'superhero': 'batman', 'capability': 'rich'}, \n",
    "       {'city': 'Gotham'},\n",
    "       {'country': 'US', 'postcode': '12345'}]"
   ]
  },
  {
   "cell_type": "code",
   "execution_count": 351,
   "metadata": {},
   "outputs": [],
   "source": [
    "def store(arr):\n",
    "    text = ''\n",
    "    for d in arr:\n",
    "        if len(d) > 1:\n",
    "            line = ''\n",
    "            for key in d:\n",
    "                line += key + '=' + d[key] + ';'\n",
    "            line = line[:-1] + '\\n'\n",
    "        else:\n",
    "            for key in d:\n",
    "                line = key + '=' + d[key] + '\\n'\n",
    "        text += line\n",
    "\n",
    "    return text[:-1]  # remove last '\\n'"
   ]
  },
  {
   "cell_type": "code",
   "execution_count": 352,
   "metadata": {},
   "outputs": [
    {
     "data": {
      "text/plain": [
       "'superhero=batman;capability=rich\\ncity=Gotham\\ncountry=US;postcode=12345'"
      ]
     },
     "execution_count": 352,
     "metadata": {},
     "output_type": "execute_result"
    }
   ],
   "source": [
    "text = store(arr)\n",
    "text"
   ]
  },
  {
   "cell_type": "code",
   "execution_count": 353,
   "metadata": {},
   "outputs": [],
   "source": [
    "def load(text):\n",
    "    arr = []\n",
    "    text_list = text.split('\\n')\n",
    "    for item in text_list:\n",
    "        d = dict()\n",
    "        if ';' in item:\n",
    "            item_list = item.split(';')\n",
    "            for ite in item_list:\n",
    "                idx = ite.find('=')\n",
    "                d[ite[:idx]] = ite[idx+1:]\n",
    "            arr.append(d)\n",
    "        else:\n",
    "            idx = item.find('=')\n",
    "            d[item[:idx]] = item[idx+1:]\n",
    "            arr.append(d)\n",
    "    return arr"
   ]
  },
  {
   "cell_type": "code",
   "execution_count": 354,
   "metadata": {
    "scrolled": true
   },
   "outputs": [
    {
     "data": {
      "text/plain": [
       "[{'capability': 'rich', 'superhero': 'batman'},\n",
       " {'city': 'Gotham'},\n",
       " {'country': 'US', 'postcode': '12345'}]"
      ]
     },
     "execution_count": 354,
     "metadata": {},
     "output_type": "execute_result"
    }
   ],
   "source": [
    "load(text)"
   ]
  },
  {
   "cell_type": "markdown",
   "metadata": {},
   "source": [
    "#### Question 3 is skipped."
   ]
  },
  {
   "cell_type": "markdown",
   "metadata": {},
   "source": [
    "#### Question 4: Minimum Difference"
   ]
  },
  {
   "cell_type": "code",
   "execution_count": 355,
   "metadata": {},
   "outputs": [],
   "source": [
    "import itertools\n",
    "\n",
    "def min_diff(nums, k):\n",
    "    # brute force method\n",
    "    \n",
    "    nums_k = [(num + k, num - k) for num in nums]\n",
    "    combs = itertools.product(*nums_k)\n",
    "    \n",
    "    min_diff = float('inf')\n",
    "    for comb in combs:\n",
    "        diff = max(comb) - min(comb)\n",
    "        if diff < min_diff:\n",
    "            min_diff = diff\n",
    "    \n",
    "    return min_diff"
   ]
  },
  {
   "cell_type": "code",
   "execution_count": 367,
   "metadata": {
    "scrolled": true
   },
   "outputs": [
    {
     "data": {
      "text/plain": [
       "4"
      ]
     },
     "execution_count": 367,
     "metadata": {},
     "output_type": "execute_result"
    }
   ],
   "source": [
    "nums = [1, 7, 3, 5, 4]\n",
    "k = 3\n",
    "min_diff(nums, k)"
   ]
  }
 ],
 "metadata": {
  "kernelspec": {
   "display_name": "Python 3",
   "language": "python",
   "name": "python3"
  },
  "language_info": {
   "codemirror_mode": {
    "name": "ipython",
    "version": 3
   },
   "file_extension": ".py",
   "mimetype": "text/x-python",
   "name": "python",
   "nbconvert_exporter": "python",
   "pygments_lexer": "ipython3",
   "version": "3.6.2"
  }
 },
 "nbformat": 4,
 "nbformat_minor": 2
}
